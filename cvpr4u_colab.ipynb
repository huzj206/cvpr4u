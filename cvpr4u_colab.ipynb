{
  "cells": [
    {
      "cell_type": "markdown",
      "metadata": {},
      "source": [
        "#Github Clone"
      ]
    },
    {
      "cell_type": "code",
      "execution_count": null,
      "metadata": {
        "colab": {
          "base_uri": "https://localhost:8080/"
        },
        "collapsed": true,
        "id": "pAVNaXuLmi2J",
        "outputId": "f93f6854-2478-4a65-eb6b-71e4d4dcdb31"
      },
      "outputs": [],
      "source": [
        "!git clone https://github.com/huzj206/cvpr4u.git"
      ]
    },
    {
      "cell_type": "markdown",
      "metadata": {},
      "source": [
        "#Configuration"
      ]
    },
    {
      "cell_type": "code",
      "execution_count": null,
      "metadata": {
        "colab": {
          "base_uri": "https://localhost:8080/"
        },
        "collapsed": true,
        "id": "Pa_nY0s4mtfz",
        "outputId": "67e677d6-0b3b-4acb-976f-cd14a074ae80"
      },
      "outputs": [],
      "source": [
        "%cd /content/cvpr4u/\n",
        "!pip install -r requirements.txt"
      ]
    },
    {
      "cell_type": "code",
      "execution_count": null,
      "metadata": {
        "colab": {
          "base_uri": "https://localhost:8080/"
        },
        "collapsed": true,
        "id": "ZrlJQAJAnRm1",
        "outputId": "59786fce-271d-4952-d54e-d9147ef6717a"
      },
      "outputs": [],
      "source": [
        "!pip install --upgrade pymupdf"
      ]
    },
    {
      "cell_type": "markdown",
      "metadata": {},
      "source": [
        "#Run"
      ]
    },
    {
      "cell_type": "code",
      "execution_count": null,
      "metadata": {
        "colab": {
          "base_uri": "https://localhost:8080/"
        },
        "id": "RtvSUc_6nZpC",
        "outputId": "d5420573-7e4c-43de-bad4-91ae9b3cf3ba"
      },
      "outputs": [],
      "source": [
        "!python run.py --kw0 isp --kw1 segmentation --kw2 realtime --url https://openaccess.thecvf.com/CVPR2023?day=2023-06-21"
      ]
    }
  ],
  "metadata": {
    "accelerator": "GPU",
    "colab": {
      "gpuType": "T4",
      "provenance": []
    },
    "kernelspec": {
      "display_name": "Python 3",
      "name": "python3"
    },
    "language_info": {
      "name": "python"
    }
  },
  "nbformat": 4,
  "nbformat_minor": 0
}
